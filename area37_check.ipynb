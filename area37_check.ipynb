{
 "cells": [
  {
   "cell_type": "markdown",
   "metadata": {},
   "source": [
    "Import modules, including custom modules in /utils/ for stock aggregation and calculations"
   ]
  },
  {
   "cell_type": "code",
   "execution_count": 1,
   "metadata": {},
   "outputs": [],
   "source": [
    "import numpy as np\n",
    "import pandas as pd\n",
    "import os\n",
    "\n",
    "# Utility functions for calculations found in /utils/ folder\n",
    "from utils.stock_assessments import get_asfis_mappings\n",
    "from utils.species_landings import (\n",
    "    format_fishstat,\n",
    "    compute_species_landings,\n",
    "    substitute_landings,\n",
    "    add_species_landings,\n",
    ")\n",
    "from utils.stock_landings import compute_num_stocks, compute_landings\n",
    "from utils.aggregate_tables import (\n",
    "    compute_status_by_number,\n",
    "    compute_weighted_percentages,\n",
    "    compute_total_area_landings,\n",
    "    compute_percent_coverage,\n",
    ")"
   ]
  },
  {
   "cell_type": "markdown",
   "metadata": {},
   "source": [
    "Define directories for imports"
   ]
  },
  {
   "cell_type": "code",
   "execution_count": 2,
   "metadata": {},
   "outputs": [],
   "source": [
    "parent_dir = os.getcwd()\n",
    "input_dir = os.path.join(parent_dir, \"input\")\n",
    "clean_data_dir = os.path.join(parent_dir, \"output/clean_data\")"
   ]
  },
  {
   "cell_type": "markdown",
   "metadata": {},
   "source": [
    "Read in the list of Area 37 stocks from the clean_data folder."
   ]
  },
  {
   "cell_type": "code",
   "execution_count": 3,
   "metadata": {},
   "outputs": [],
   "source": [
    "stock_assessments_complete = pd.read_excel(\n",
    "    os.path.join(clean_data_dir, \"stock_assessments.xlsx\")\n",
    ")\n",
    "\n",
    "AREA = 37\n",
    "\n",
    "area37_mask = stock_assessments_complete[\"Area\"] == str(AREA)\n",
    "\n",
    "stock_assessments = stock_assessments_complete[area37_mask].copy()"
   ]
  },
  {
   "cell_type": "markdown",
   "metadata": {},
   "source": [
    "Compute the status by number"
   ]
  },
  {
   "cell_type": "code",
   "execution_count": 4,
   "metadata": {},
   "outputs": [
    {
     "data": {
      "text/html": [
       "<div>\n",
       "<style scoped>\n",
       "    .dataframe tbody tr th:only-of-type {\n",
       "        vertical-align: middle;\n",
       "    }\n",
       "\n",
       "    .dataframe tbody tr th {\n",
       "        vertical-align: top;\n",
       "    }\n",
       "\n",
       "    .dataframe thead th {\n",
       "        text-align: right;\n",
       "    }\n",
       "</style>\n",
       "<table border=\"1\" class=\"dataframe\">\n",
       "  <thead>\n",
       "    <tr style=\"text-align: right;\">\n",
       "      <th></th>\n",
       "      <th>Area</th>\n",
       "      <th>No. of stocks</th>\n",
       "      <th>No. of U</th>\n",
       "      <th>No. of MSF</th>\n",
       "      <th>No. of O</th>\n",
       "      <th>No. of Sustainable</th>\n",
       "      <th>No. of Unsustainable</th>\n",
       "      <th>U (%)</th>\n",
       "      <th>MSF (%)</th>\n",
       "      <th>O (%)</th>\n",
       "      <th>Sustainable (%)</th>\n",
       "      <th>Unsustainable (%)</th>\n",
       "    </tr>\n",
       "  </thead>\n",
       "  <tbody>\n",
       "    <tr>\n",
       "      <th>0</th>\n",
       "      <td>37</td>\n",
       "      <td>114</td>\n",
       "      <td>9</td>\n",
       "      <td>31</td>\n",
       "      <td>74</td>\n",
       "      <td>40</td>\n",
       "      <td>74</td>\n",
       "      <td>7.894737</td>\n",
       "      <td>27.192982</td>\n",
       "      <td>64.912281</td>\n",
       "      <td>35.087719</td>\n",
       "      <td>64.912281</td>\n",
       "    </tr>\n",
       "  </tbody>\n",
       "</table>\n",
       "</div>"
      ],
      "text/plain": [
       "  Area  No. of stocks  No. of U  No. of MSF  No. of O  No. of Sustainable  \\\n",
       "0   37            114         9          31        74                  40   \n",
       "\n",
       "   No. of Unsustainable     U (%)    MSF (%)      O (%)  Sustainable (%)  \\\n",
       "0                    74  7.894737  27.192982  64.912281        35.087719   \n",
       "\n",
       "   Unsustainable (%)  \n",
       "0          64.912281  "
      ]
     },
     "execution_count": 4,
     "metadata": {},
     "output_type": "execute_result"
    }
   ],
   "source": [
    "compute_status_by_number(stock_assessments, \"Area\").head(1)"
   ]
  },
  {
   "cell_type": "markdown",
   "metadata": {},
   "source": [
    "We assign landings to the species based on values found in Fishstatj"
   ]
  },
  {
   "cell_type": "code",
   "execution_count": 5,
   "metadata": {},
   "outputs": [],
   "source": [
    "# Retrieve fishstat data from input folder\n",
    "fishstat = pd.read_csv(os.path.join(input_dir, \"global_capture_production.csv\"))\n",
    "\n",
    "# Format fishstat data\n",
    "mappings = get_asfis_mappings(input_dir, \"ASFIS_sp_2024.csv\")\n",
    "asfis = mappings[\"ASFIS\"]\n",
    "code_to_scientific = dict(zip(asfis[\"Alpha3_Code\"], asfis[\"Scientific_Name\"]))\n",
    "\n",
    "fishstat = format_fishstat(fishstat, code_to_scientific)\n",
    "\n",
    "# Define dataframe for the species landings\n",
    "species_landings = stock_assessments[\n",
    "    [\"FAO Major Fishing Area(s)\", \"ASFIS Scientific Name\", \"Location\"]\n",
    "].copy()\n",
    "\n",
    "species_landings[\"FAO Area\"] = species_landings[\"FAO Major Fishing Area(s)\"].astype(int)\n",
    "species_landings.drop(columns=\"FAO Major Fishing Area(s)\", inplace=True)\n",
    "\n",
    "# Compute species landings for all assessed stocks\n",
    "year_start, year_end = 1950, 2021\n",
    "years = list(range(year_start, year_end + 1))\n",
    "\n",
    "pk = [\"FAO Area\", \"ASFIS Scientific Name\"]\n",
    "\n",
    "sl_reduced = species_landings.drop_duplicates(pk)[pk].copy()\n",
    "\n",
    "sl_reduced[years] = sl_reduced.apply(compute_species_landings, args=(fishstat,), axis=1)"
   ]
  },
  {
   "cell_type": "markdown",
   "metadata": {},
   "source": [
    "We substitute the landings of proxy species for landings of species which have zero reported catch in Fishstatj. <br>\n",
    "\n",
    "For Metapenaeus stebbingi, we use Metapenaeus monoceros. <br>\n",
    "\n",
    "For Saurida lessepsianus and Saurida undosquamis, we use Synodontidae."
   ]
  },
  {
   "cell_type": "code",
   "execution_count": 6,
   "metadata": {},
   "outputs": [],
   "source": [
    "subs = [\n",
    "    [AREA, [\"Metapenaeus stebbingi\"], [\"Metapenaeus monoceros\"]],\n",
    "    [AREA, [\"Saurida lessepsianus\", \"Saurida undosquamis\"], [\"Synodontidae\"]],\n",
    "]\n",
    "\n",
    "sl_reduced = substitute_landings(sl_reduced, fishstat, subs, years)"
   ]
  },
  {
   "cell_type": "markdown",
   "metadata": {},
   "source": [
    "Now we include the landings of Mullus spp (added to Mullus barbatus landings), Sardinella spp (added to Sardinella pilchardus landings), Trachurus spp (added to Trachurus mediterraneous landings). <br>\n",
    "\n",
    "We haven't done this YET in the main branch since we are still considering for which stocks to perform this kind of operation on in other areas. Rest assured this will be performed in the final version, especially for this area."
   ]
  },
  {
   "cell_type": "code",
   "execution_count": 7,
   "metadata": {},
   "outputs": [],
   "source": [
    "# Dictionary keys are proxy species which landings are added to the species in the corresponding list, given the area\n",
    "spl = {\n",
    "    \"Mullus spp\": [AREA, \"Mullus barbatus\"],\n",
    "    \"Sardinella spp\": [AREA, \"Sardina pilchardus\"],\n",
    "    \"Trachurus spp\": [AREA, \"Trachurus mediterraneus\"],\n",
    "}\n",
    "\n",
    "sl_reduced = add_species_landings(sl_reduced, fishstat, spl, years)\n",
    "\n",
    "# Merge computed landings back to list of all stocks\n",
    "species_landings = pd.merge(species_landings, sl_reduced, on=pk)\n",
    "\n",
    "# Only keep 2021 landings\n",
    "species_landings = species_landings[\n",
    "    [\"ASFIS Scientific Name\", \"Location\", \"FAO Area\", 2021]\n",
    "]\n",
    "\n",
    "species_landings = species_landings.rename(columns={2021: \"Species Landings 2021\"})"
   ]
  },
  {
   "cell_type": "markdown",
   "metadata": {},
   "source": [
    "Now we pull the computed weights from the clean data folder. The stock weights are based on the \"Catches\" and \"Landings\" columns in the original Area 37 sheet (found in /input/updated_assessment_overview.xlsx, sheet name = \"37\"). The normalized weight for each stock is then computed from the reported catch or landings from the original file."
   ]
  },
  {
   "cell_type": "code",
   "execution_count": 8,
   "metadata": {},
   "outputs": [],
   "source": [
    "stock_weights = pd.read_excel(os.path.join(clean_data_dir, \"stock_weights.xlsx\"))\n",
    "\n",
    "w_area_mask = stock_weights[\"FAO Area\"] == AREA\n",
    "\n",
    "stock_weights = stock_weights[w_area_mask]\n",
    "\n",
    "stock_weights.drop(columns=[\"FAO Area\", \"Weight 1\", \"Weight 2\"], inplace=True)"
   ]
  },
  {
   "cell_type": "markdown",
   "metadata": {},
   "source": [
    "Based on the weights and the species landings, we can now compute the stock landings"
   ]
  },
  {
   "cell_type": "code",
   "execution_count": 9,
   "metadata": {},
   "outputs": [],
   "source": [
    "primary_key = [\"ASFIS Scientific Name\", \"Location\"]\n",
    "\n",
    "stock_landings = pd.merge(species_landings, stock_weights, on=primary_key)\n",
    "\n",
    "# Add the status\n",
    "stock_landings = pd.merge(stock_landings, stock_assessments, on=primary_key)\n",
    "\n",
    "stock_landings = compute_num_stocks(stock_landings)\n",
    "\n",
    "stock_landings[\"Stock Landings 2021\"] = stock_landings.apply(compute_landings, axis=1)"
   ]
  },
  {
   "cell_type": "markdown",
   "metadata": {},
   "source": [
    "Using the stock landings, we can compute the necessary statistics for Area 37! <br>\n",
    "\n",
    "Let's start with the weighted percentages of status"
   ]
  },
  {
   "cell_type": "code",
   "execution_count": 10,
   "metadata": {},
   "outputs": [
    {
     "data": {
      "text/html": [
       "<div>\n",
       "<style scoped>\n",
       "    .dataframe tbody tr th:only-of-type {\n",
       "        vertical-align: middle;\n",
       "    }\n",
       "\n",
       "    .dataframe tbody tr th {\n",
       "        vertical-align: top;\n",
       "    }\n",
       "\n",
       "    .dataframe thead tr th {\n",
       "        text-align: left;\n",
       "    }\n",
       "\n",
       "    .dataframe thead tr:last-of-type th {\n",
       "        text-align: right;\n",
       "    }\n",
       "</style>\n",
       "<table border=\"1\" class=\"dataframe\">\n",
       "  <thead>\n",
       "    <tr>\n",
       "      <th></th>\n",
       "      <th colspan=\"5\" halign=\"left\">Total Landings</th>\n",
       "      <th colspan=\"5\" halign=\"left\">Weighted % by Landings</th>\n",
       "    </tr>\n",
       "    <tr>\n",
       "      <th></th>\n",
       "      <th>U (Mt)</th>\n",
       "      <th>MSF (Mt)</th>\n",
       "      <th>O (Mt)</th>\n",
       "      <th>Sustainable (Mt)</th>\n",
       "      <th>Unsustainable (Mt)</th>\n",
       "      <th>U (%)</th>\n",
       "      <th>MSF (%)</th>\n",
       "      <th>O (%)</th>\n",
       "      <th>Sustainable (%)</th>\n",
       "      <th>Unsustainable (%)</th>\n",
       "    </tr>\n",
       "    <tr>\n",
       "      <th>FAO Area</th>\n",
       "      <th></th>\n",
       "      <th></th>\n",
       "      <th></th>\n",
       "      <th></th>\n",
       "      <th></th>\n",
       "      <th></th>\n",
       "      <th></th>\n",
       "      <th></th>\n",
       "      <th></th>\n",
       "      <th></th>\n",
       "    </tr>\n",
       "  </thead>\n",
       "  <tbody>\n",
       "    <tr>\n",
       "      <th>37</th>\n",
       "      <td>0.042329</td>\n",
       "      <td>0.406536</td>\n",
       "      <td>0.356171</td>\n",
       "      <td>0.448865</td>\n",
       "      <td>0.356171</td>\n",
       "      <td>5.258024</td>\n",
       "      <td>50.499121</td>\n",
       "      <td>44.242854</td>\n",
       "      <td>55.757146</td>\n",
       "      <td>44.242854</td>\n",
       "    </tr>\n",
       "  </tbody>\n",
       "</table>\n",
       "</div>"
      ],
      "text/plain": [
       "         Total Landings                                       \\\n",
       "                 U (Mt)  MSF (Mt)    O (Mt) Sustainable (Mt)   \n",
       "FAO Area                                                       \n",
       "37             0.042329  0.406536  0.356171         0.448865   \n",
       "\n",
       "                            Weighted % by Landings                        \\\n",
       "         Unsustainable (Mt)                  U (%)    MSF (%)      O (%)   \n",
       "FAO Area                                                                   \n",
       "37                 0.356171               5.258024  50.499121  44.242854   \n",
       "\n",
       "                                            \n",
       "         Sustainable (%) Unsustainable (%)  \n",
       "FAO Area                                    \n",
       "37             55.757146         44.242854  "
      ]
     },
     "execution_count": 10,
     "metadata": {},
     "output_type": "execute_result"
    }
   ],
   "source": [
    "compute_weighted_percentages(stock_landings, key=\"FAO Area\").head(1)"
   ]
  },
  {
   "cell_type": "markdown",
   "metadata": {},
   "source": [
    "Now let's compute the Total Area Landings <br>\n",
    "\n",
    "We need the list of migratory tuna and migratory sharks in order to compute the total area landings. If we simply remove all tuna and sharks, we discount the local tuna and sharks (and the local tuna landings are nontrivial, as will be shown below)."
   ]
  },
  {
   "cell_type": "code",
   "execution_count": 11,
   "metadata": {},
   "outputs": [
    {
     "name": "stdout",
     "output_type": "stream",
     "text": [
      "Area 37 Total Landings without migratory tuna or sharks: 1.1088 (Mt)\n"
     ]
    }
   ],
   "source": [
    "# Define the ISSCAAP Groups to remove\n",
    "isscaap_to_remove = [46, 61, 62, 63, 64, 71, 72, 73, 74, 81, 82, 83, 91, 92, 93, 94]\n",
    "\n",
    "# Retrieve ISSCAAP Codes for fishstat and species landings\n",
    "sn_to_isscaap = dict(zip(asfis[\"Scientific_Name\"], asfis[\"ISSCAAP_Group_Code\"]))\n",
    "fishstat[\"ISSCAAP Code\"] = fishstat[\"ASFIS Scientific Name\"].map(sn_to_isscaap)\n",
    "species_landings[\"ISSCAAP Code\"] = species_landings[\"ASFIS Scientific Name\"].map(\n",
    "    sn_to_isscaap\n",
    ")\n",
    "\n",
    "species_landings[\"Area\"] = species_landings[\"FAO Area\"]\n",
    "\n",
    "# Get list of migratory tuna and sharks\n",
    "sharks_df = pd.read_excel(os.path.join(input_dir, \"oceanic_pelagic_sharks.xlsx\"))\n",
    "sharks = sharks_df[\"ASFIS Scientific Name\"].unique()\n",
    "\n",
    "tuna_mask = stock_assessments_complete[\"Area\"] == \"Tuna\"\n",
    "tuna_df = stock_assessments_complete[tuna_mask].copy()\n",
    "tuna = tuna_df[\"ASFIS Scientific Name\"].unique()\n",
    "\n",
    "special_groups = {\"Sharks\": sharks, \"Tuna\": tuna}\n",
    "\n",
    "totl = compute_total_area_landings(\n",
    "    AREA,\n",
    "    fishstat,\n",
    "    species_landings,\n",
    "    special_groups=special_groups,\n",
    "    isscaap_to_remove=isscaap_to_remove,\n",
    ").loc[2021]\n",
    "\n",
    "print(\n",
    "    f\"Area {AREA} Total Landings without migratory tuna or sharks: {totl/1e6:.4f} (Mt)\"\n",
    ")"
   ]
  },
  {
   "cell_type": "markdown",
   "metadata": {},
   "source": [
    "Now, if we had simply taken out ISSCAAP Group 36, i.e. ALL tuna, including the local stocks, we would get a different number."
   ]
  },
  {
   "cell_type": "code",
   "execution_count": 12,
   "metadata": {},
   "outputs": [
    {
     "name": "stdout",
     "output_type": "stream",
     "text": [
      "Area 37 Total Landings without ALL tuna: 1.0802 (Mt)\n"
     ]
    }
   ],
   "source": [
    "fs_isscaap_mask = ~fishstat[\"ISSCAAP Code\"].isin(isscaap_to_remove + [36])\n",
    "fs_area_mask = fishstat[\"Area\"] == AREA\n",
    "\n",
    "totl_naive = fishstat[fs_isscaap_mask & fs_area_mask][2021].sum()\n",
    "\n",
    "print(f\"Area {AREA} Total Landings without ALL tuna: {totl_naive/1e6:.4f} (Mt)\")"
   ]
  },
  {
   "cell_type": "markdown",
   "metadata": {},
   "source": [
    "This is because the local tuna landings are nontrivial in Area 37"
   ]
  },
  {
   "cell_type": "code",
   "execution_count": 21,
   "metadata": {},
   "outputs": [
    {
     "data": {
      "text/html": [
       "<div>\n",
       "<style scoped>\n",
       "    .dataframe tbody tr th:only-of-type {\n",
       "        vertical-align: middle;\n",
       "    }\n",
       "\n",
       "    .dataframe tbody tr th {\n",
       "        vertical-align: top;\n",
       "    }\n",
       "\n",
       "    .dataframe thead th {\n",
       "        text-align: right;\n",
       "    }\n",
       "</style>\n",
       "<table border=\"1\" class=\"dataframe\">\n",
       "  <thead>\n",
       "    <tr style=\"text-align: right;\">\n",
       "      <th></th>\n",
       "      <th>ASFIS Scientific Name</th>\n",
       "      <th>ISSCAAP Code</th>\n",
       "      <th>2021 Landings</th>\n",
       "    </tr>\n",
       "  </thead>\n",
       "  <tbody>\n",
       "    <tr>\n",
       "      <th>0</th>\n",
       "      <td>Xiphias gladius</td>\n",
       "      <td>36.0</td>\n",
       "      <td>10082.15</td>\n",
       "    </tr>\n",
       "    <tr>\n",
       "      <th>1</th>\n",
       "      <td>Sarda sarda</td>\n",
       "      <td>36.0</td>\n",
       "      <td>6764.64</td>\n",
       "    </tr>\n",
       "    <tr>\n",
       "      <th>2</th>\n",
       "      <td>Euthynnus alletteratus</td>\n",
       "      <td>36.0</td>\n",
       "      <td>6471.03</td>\n",
       "    </tr>\n",
       "    <tr>\n",
       "      <th>3</th>\n",
       "      <td>Auxis rochei</td>\n",
       "      <td>36.0</td>\n",
       "      <td>3084.12</td>\n",
       "    </tr>\n",
       "    <tr>\n",
       "      <th>4</th>\n",
       "      <td>Scomberomorus commerson</td>\n",
       "      <td>36.0</td>\n",
       "      <td>1039.00</td>\n",
       "    </tr>\n",
       "    <tr>\n",
       "      <th>5</th>\n",
       "      <td>Auxis thazard, A. rochei</td>\n",
       "      <td>36.0</td>\n",
       "      <td>922.53</td>\n",
       "    </tr>\n",
       "    <tr>\n",
       "      <th>6</th>\n",
       "      <td>Scombriformes (Scombroidei)</td>\n",
       "      <td>36.0</td>\n",
       "      <td>200.00</td>\n",
       "    </tr>\n",
       "    <tr>\n",
       "      <th>7</th>\n",
       "      <td>Thunnini</td>\n",
       "      <td>36.0</td>\n",
       "      <td>33.09</td>\n",
       "    </tr>\n",
       "    <tr>\n",
       "      <th>8</th>\n",
       "      <td>Orcynopsis unicolor</td>\n",
       "      <td>36.0</td>\n",
       "      <td>27.41</td>\n",
       "    </tr>\n",
       "    <tr>\n",
       "      <th>9</th>\n",
       "      <td>Tetrapturus belone</td>\n",
       "      <td>36.0</td>\n",
       "      <td>26.24</td>\n",
       "    </tr>\n",
       "    <tr>\n",
       "      <th>10</th>\n",
       "      <td>Istiophoridae</td>\n",
       "      <td>36.0</td>\n",
       "      <td>1.37</td>\n",
       "    </tr>\n",
       "    <tr>\n",
       "      <th>11</th>\n",
       "      <td>Kajikia audax</td>\n",
       "      <td>36.0</td>\n",
       "      <td>1.21</td>\n",
       "    </tr>\n",
       "    <tr>\n",
       "      <th>12</th>\n",
       "      <td>Sarda spp</td>\n",
       "      <td>36.0</td>\n",
       "      <td>0.63</td>\n",
       "    </tr>\n",
       "    <tr>\n",
       "      <th>13</th>\n",
       "      <td>Makaira nigricans</td>\n",
       "      <td>36.0</td>\n",
       "      <td>0.53</td>\n",
       "    </tr>\n",
       "    <tr>\n",
       "      <th>14</th>\n",
       "      <td>Istiophorus albicans</td>\n",
       "      <td>36.0</td>\n",
       "      <td>0.11</td>\n",
       "    </tr>\n",
       "    <tr>\n",
       "      <th>15</th>\n",
       "      <td>Kajikia albida</td>\n",
       "      <td>36.0</td>\n",
       "      <td>0.05</td>\n",
       "    </tr>\n",
       "    <tr>\n",
       "      <th>16</th>\n",
       "      <td>Scomberomorus spp</td>\n",
       "      <td>36.0</td>\n",
       "      <td>0.00</td>\n",
       "    </tr>\n",
       "    <tr>\n",
       "      <th>17</th>\n",
       "      <td>Tetrapturus angustirostris</td>\n",
       "      <td>36.0</td>\n",
       "      <td>0.00</td>\n",
       "    </tr>\n",
       "    <tr>\n",
       "      <th>18</th>\n",
       "      <td>Tetrapturus pfluegeri</td>\n",
       "      <td>36.0</td>\n",
       "      <td>0.00</td>\n",
       "    </tr>\n",
       "    <tr>\n",
       "      <th>19</th>\n",
       "      <td>Auxis thazard</td>\n",
       "      <td>36.0</td>\n",
       "      <td>0.00</td>\n",
       "    </tr>\n",
       "    <tr>\n",
       "      <th>20</th>\n",
       "      <td>Acanthocybium solandri</td>\n",
       "      <td>36.0</td>\n",
       "      <td>0.00</td>\n",
       "    </tr>\n",
       "    <tr>\n",
       "      <th>21</th>\n",
       "      <td>Total</td>\n",
       "      <td></td>\n",
       "      <td>28654.11</td>\n",
       "    </tr>\n",
       "  </tbody>\n",
       "</table>\n",
       "</div>"
      ],
      "text/plain": [
       "          ASFIS Scientific Name ISSCAAP Code  2021 Landings\n",
       "0               Xiphias gladius         36.0       10082.15\n",
       "1                   Sarda sarda         36.0        6764.64\n",
       "2        Euthynnus alletteratus         36.0        6471.03\n",
       "3                  Auxis rochei         36.0        3084.12\n",
       "4       Scomberomorus commerson         36.0        1039.00\n",
       "5      Auxis thazard, A. rochei         36.0         922.53\n",
       "6   Scombriformes (Scombroidei)         36.0         200.00\n",
       "7                      Thunnini         36.0          33.09\n",
       "8           Orcynopsis unicolor         36.0          27.41\n",
       "9            Tetrapturus belone         36.0          26.24\n",
       "10                Istiophoridae         36.0           1.37\n",
       "11                Kajikia audax         36.0           1.21\n",
       "12                    Sarda spp         36.0           0.63\n",
       "13            Makaira nigricans         36.0           0.53\n",
       "14         Istiophorus albicans         36.0           0.11\n",
       "15               Kajikia albida         36.0           0.05\n",
       "16            Scomberomorus spp         36.0           0.00\n",
       "17   Tetrapturus angustirostris         36.0           0.00\n",
       "18        Tetrapturus pfluegeri         36.0           0.00\n",
       "19                Auxis thazard         36.0           0.00\n",
       "20       Acanthocybium solandri         36.0           0.00\n",
       "21                        Total                    28654.11"
      ]
     },
     "execution_count": 21,
     "metadata": {},
     "output_type": "execute_result"
    }
   ],
   "source": [
    "fs_tuna_mask = fishstat[\"ISSCAAP Code\"] == 36\n",
    "fs_mig_tuna_mask = fishstat[\"ASFIS Scientific Name\"].isin(tuna)\n",
    "\n",
    "totl_local_tuna = (\n",
    "    fishstat[fs_area_mask & fs_tuna_mask & ~fs_mig_tuna_mask]\n",
    "    .groupby([\"ASFIS Scientific Name\", \"ISSCAAP Code\"])[2021]\n",
    "    .sum()\n",
    "    .sort_values(ascending=False)\n",
    ")\n",
    "\n",
    "totl_local_tuna.loc[\"Total\"] = totl_local_tuna.sum()\n",
    "\n",
    "totl_local_tuna.reset_index(name=\"2021 Landings\")"
   ]
  },
  {
   "cell_type": "markdown",
   "metadata": {},
   "source": [
    "Now, when we compute the total area landings for the percent coverage calculations, we do not exclude the landings from migratory tuna and sharks which are reported in the area."
   ]
  },
  {
   "cell_type": "code",
   "execution_count": 14,
   "metadata": {},
   "outputs": [
    {
     "name": "stdout",
     "output_type": "stream",
     "text": [
      "Area 37 Total Landings in 2021: 1.1358 (Mt)\n"
     ]
    }
   ],
   "source": [
    "totl_pc = compute_total_area_landings(\n",
    "    AREA,\n",
    "    fishstat,\n",
    "    species_landings,\n",
    "    isscaap_to_remove=isscaap_to_remove,\n",
    ").loc[2021]\n",
    "\n",
    "print(f\"Area {AREA} Total Landings in 2021: {totl_pc/1e6:.4f} (Mt)\")"
   ]
  },
  {
   "cell_type": "markdown",
   "metadata": {},
   "source": [
    "We compute the total assessed landings from the stock landings"
   ]
  },
  {
   "cell_type": "code",
   "execution_count": 15,
   "metadata": {},
   "outputs": [
    {
     "name": "stdout",
     "output_type": "stream",
     "text": [
      "Area 37 Total Assessed Landings in 2021: 0.8050 (Mt)\n"
     ]
    }
   ],
   "source": [
    "totl_assessed = stock_landings[\"Stock Landings 2021\"].sum()\n",
    "\n",
    "print(f\"Area {AREA} Total Assessed Landings in 2021: {totl_assessed/1e6:.4f} (Mt)\")"
   ]
  },
  {
   "cell_type": "markdown",
   "metadata": {},
   "source": [
    "For percent coverage, we have to add back the landings from the migratory tunas and sharks which are assessed in the FAO Area. We will grab these landings from the clean data folder"
   ]
  },
  {
   "cell_type": "code",
   "execution_count": 16,
   "metadata": {},
   "outputs": [
    {
     "name": "stdout",
     "output_type": "stream",
     "text": [
      "Area 37 has 0.0269 (Mt) landings from migratory tuna and sharks.\n"
     ]
    }
   ],
   "source": [
    "stock_landings_full = pd.read_excel(\n",
    "    os.path.join(clean_data_dir, \"stock_landings_fao_areas.xlsx\")\n",
    ")\n",
    "\n",
    "sl_tuna_mask = stock_landings_full[\"Area\"] == \"Tuna\"\n",
    "sl_sharks_mask = stock_landings_full[\"Area\"] == \"Sharks\"\n",
    "sl_area_mask = stock_landings_full[\"FAO Area\"] == AREA\n",
    "\n",
    "mig_stocks = stock_landings_full[(sl_tuna_mask | sl_sharks_mask) & sl_area_mask]\n",
    "\n",
    "mig_l = mig_stocks[\"Stock Landings 2021\"].sum()\n",
    "\n",
    "print(f\"Area {AREA} has {mig_l/1e6:.4f} (Mt) landings from migratory tuna and sharks.\")"
   ]
  },
  {
   "cell_type": "markdown",
   "metadata": {},
   "source": [
    "This gives us the percent coverage"
   ]
  },
  {
   "cell_type": "code",
   "execution_count": 17,
   "metadata": {},
   "outputs": [
    {
     "name": "stdout",
     "output_type": "stream",
     "text": [
      "Area 37 percent coverage: 73.24%\n"
     ]
    }
   ],
   "source": [
    "pc = (totl_assessed + mig_l) / totl_pc\n",
    "\n",
    "print(f\"Area {AREA} percent coverage: {100 * pc:.2f}%\")"
   ]
  },
  {
   "cell_type": "markdown",
   "metadata": {},
   "source": [
    "Which is the same value we get when using the utils function to compute percent coverage"
   ]
  },
  {
   "cell_type": "code",
   "execution_count": 19,
   "metadata": {},
   "outputs": [
    {
     "data": {
      "text/html": [
       "<div>\n",
       "<style scoped>\n",
       "    .dataframe tbody tr th:only-of-type {\n",
       "        vertical-align: middle;\n",
       "    }\n",
       "\n",
       "    .dataframe tbody tr th {\n",
       "        vertical-align: top;\n",
       "    }\n",
       "\n",
       "    .dataframe thead th {\n",
       "        text-align: right;\n",
       "    }\n",
       "</style>\n",
       "<table border=\"1\" class=\"dataframe\">\n",
       "  <thead>\n",
       "    <tr style=\"text-align: right;\">\n",
       "      <th></th>\n",
       "      <th>Area</th>\n",
       "      <th>Coverage (%)</th>\n",
       "    </tr>\n",
       "  </thead>\n",
       "  <tbody>\n",
       "    <tr>\n",
       "      <th>0</th>\n",
       "      <td>37</td>\n",
       "      <td>73.243544</td>\n",
       "    </tr>\n",
       "  </tbody>\n",
       "</table>\n",
       "</div>"
      ],
      "text/plain": [
       "  Area  Coverage (%)\n",
       "0   37     73.243544"
      ]
     },
     "execution_count": 19,
     "metadata": {},
     "output_type": "execute_result"
    }
   ],
   "source": [
    "# Merge the area stocks and the migratory landings into one dataframe\n",
    "pc_stock_landings = pd.concat([stock_landings, mig_stocks])\n",
    "\n",
    "pc_util = compute_percent_coverage(\n",
    "    pc_stock_landings, species_landings, fishstat, isscaap_to_remove\n",
    ")\n",
    "\n",
    "pc_util.head(1)"
   ]
  },
  {
   "cell_type": "code",
   "execution_count": null,
   "metadata": {},
   "outputs": [],
   "source": []
  }
 ],
 "metadata": {
  "kernelspec": {
   "display_name": "Python 3",
   "language": "python",
   "name": "python3"
  },
  "language_info": {
   "codemirror_mode": {
    "name": "ipython",
    "version": 3
   },
   "file_extension": ".py",
   "mimetype": "text/x-python",
   "name": "python",
   "nbconvert_exporter": "python",
   "pygments_lexer": "ipython3",
   "version": "3.12.2"
  }
 },
 "nbformat": 4,
 "nbformat_minor": 2
}
